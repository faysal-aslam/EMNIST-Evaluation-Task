{
 "cells": [
  {
   "cell_type": "markdown",
   "id": "b900ebc6",
   "metadata": {},
   "source": [
    "## CNN Task-1 (Transfer Learning)"
   ]
  },
  {
   "cell_type": "code",
   "execution_count": 1,
   "id": "cb327dc2",
   "metadata": {},
   "outputs": [],
   "source": [
    "import numpy as np\n",
    "import gzip\n",
    "from tensorflow import keras\n",
    "from tensorflow.keras.models import Sequential\n",
    "from tensorflow.keras.models import Model\n",
    "from tensorflow.keras.layers import Dense, Flatten"
   ]
  },
  {
   "cell_type": "markdown",
   "id": "349be04d",
   "metadata": {},
   "source": [
    "## Importing EMNIST Dataset and Pre-Trained Model (h5)"
   ]
  },
  {
   "cell_type": "code",
   "execution_count": 2,
   "id": "20e29309",
   "metadata": {},
   "outputs": [],
   "source": [
    "# Path to the EMNIST dataset folder\n",
    "emnist_path = 'C:/Users/Faisal/Downloads/EMNIST_Model/EMNIST/'\n",
    "\n",
    "# Load the pre-trained model\n",
    "base_model = keras.models.load_model('C:/Users/Faisal/Downloads/EMNIST_Model/final_model.h5')\n",
    "\n",
    "# Extract EMNIST digit samples\n",
    "with gzip.open(emnist_path + 'emnist-digits-train-images-idx3-ubyte.gz', 'rb') as images_file:\n",
    "    images = np.frombuffer(images_file.read(), dtype=np.uint8, offset=16).reshape(-1, 28, 28)\n",
    "\n",
    "with gzip.open(emnist_path + 'emnist-digits-train-labels-idx1-ubyte.gz', 'rb') as labels_file:\n",
    "    labels = np.frombuffer(labels_file.read(), dtype=np.uint8, offset=8)\n",
    "\n",
    "digit_images = images[np.isin(labels, np.arange(10))]\n",
    "digit_labels = labels[np.isin(labels, np.arange(10))]"
   ]
  },
  {
   "cell_type": "code",
   "execution_count": 3,
   "id": "1c909c44",
   "metadata": {},
   "outputs": [],
   "source": [
    "# Preprocess the data\n",
    "digit_images = digit_images / 255.0  # Normalize the pixel values between 0 and 1\n",
    "\n",
    "# Split the dataset into training, validation, and test sets\n",
    "train_ratio = 0.8\n",
    "val_ratio = 0.1\n",
    "\n",
    "num_train_samples = int(train_ratio * len(digit_images))\n",
    "num_val_samples = int(val_ratio * len(digit_images))\n",
    "\n",
    "train_images = digit_images[:num_train_samples]\n",
    "train_labels = digit_labels[:num_train_samples]\n",
    "\n",
    "val_images = digit_images[num_train_samples:num_train_samples + num_val_samples]\n",
    "val_labels = digit_labels[num_train_samples:num_train_samples + num_val_samples]\n",
    "\n",
    "test_images = digit_images[num_train_samples + num_val_samples:]\n",
    "test_labels = digit_labels[num_train_samples + num_val_samples:]"
   ]
  },
  {
   "cell_type": "code",
   "execution_count": 4,
   "id": "7348d24b",
   "metadata": {},
   "outputs": [
    {
     "name": "stdout",
     "output_type": "stream",
     "text": [
      "Model: \"sequential_4\"\n",
      "_________________________________________________________________\n",
      " Layer (type)                Output Shape              Param #   \n",
      "=================================================================\n",
      " conv2d_6 (Conv2D)           (None, 26, 26, 32)        320       \n",
      "                                                                 \n",
      " max_pooling2d_5 (MaxPooling  (None, 13, 13, 32)       0         \n",
      " 2D)                                                             \n",
      "                                                                 \n",
      " conv2d_7 (Conv2D)           (None, 11, 11, 64)        18496     \n",
      "                                                                 \n",
      " conv2d_8 (Conv2D)           (None, 9, 9, 64)          36928     \n",
      "                                                                 \n",
      " max_pooling2d_6 (MaxPooling  (None, 4, 4, 64)         0         \n",
      " 2D)                                                             \n",
      "                                                                 \n",
      " flatten_4 (Flatten)         (None, 1024)              0         \n",
      "                                                                 \n",
      " dense_8 (Dense)             (None, 100)               102500    \n",
      "                                                                 \n",
      " dense_9 (Dense)             (None, 10)                1010      \n",
      "                                                                 \n",
      "=================================================================\n",
      "Total params: 159,254\n",
      "Trainable params: 159,254\n",
      "Non-trainable params: 0\n",
      "_________________________________________________________________\n"
     ]
    }
   ],
   "source": [
    "base_model.summary()"
   ]
  },
  {
   "cell_type": "code",
   "execution_count": 5,
   "id": "172455aa",
   "metadata": {},
   "outputs": [],
   "source": [
    "# Create a new model by adding the pre-trained model layers and the fully connected layer\n",
    "model = Sequential()\n",
    "for layer in base_model.layers[:-3]:  # Exclude the last layer of the pre-trained model\n",
    "    layer.trainable = False\n",
    "    model.add(layer)\n",
    "\n",
    "model.add(Flatten())\n",
    "model.add(Dense(100, activation='relu'))\n",
    "model.add(base_model.layers[-1])  # Add the last layer of the pre-trained model "
   ]
  },
  {
   "cell_type": "code",
   "execution_count": 6,
   "id": "9dab8cf4",
   "metadata": {},
   "outputs": [
    {
     "name": "stdout",
     "output_type": "stream",
     "text": [
      "Epoch 1/10\n",
      "6000/6000 [==============================] - 58s 10ms/step - loss: 0.0607 - accuracy: 0.9824 - val_loss: 0.0413 - val_accuracy: 0.9884\n",
      "Epoch 2/10\n",
      "6000/6000 [==============================] - 58s 10ms/step - loss: 0.0323 - accuracy: 0.9906 - val_loss: 0.0389 - val_accuracy: 0.9893\n",
      "Epoch 3/10\n",
      "6000/6000 [==============================] - 54s 9ms/step - loss: 0.0252 - accuracy: 0.9928 - val_loss: 0.0454 - val_accuracy: 0.9894\n",
      "Epoch 4/10\n",
      "6000/6000 [==============================] - 54s 9ms/step - loss: 0.0201 - accuracy: 0.9941 - val_loss: 0.0342 - val_accuracy: 0.9927\n",
      "Epoch 5/10\n",
      "6000/6000 [==============================] - 54s 9ms/step - loss: 0.0174 - accuracy: 0.9948 - val_loss: 0.0438 - val_accuracy: 0.9900\n",
      "Epoch 6/10\n",
      "6000/6000 [==============================] - 55s 9ms/step - loss: 0.0145 - accuracy: 0.9958 - val_loss: 0.0377 - val_accuracy: 0.9922\n",
      "Epoch 7/10\n",
      "6000/6000 [==============================] - 55s 9ms/step - loss: 0.0134 - accuracy: 0.9962 - val_loss: 0.0434 - val_accuracy: 0.9911\n",
      "Epoch 8/10\n",
      "6000/6000 [==============================] - 53s 9ms/step - loss: 0.0117 - accuracy: 0.9966 - val_loss: 0.0428 - val_accuracy: 0.9922\n",
      "Epoch 9/10\n",
      "6000/6000 [==============================] - 54s 9ms/step - loss: 0.0106 - accuracy: 0.9969 - val_loss: 0.0479 - val_accuracy: 0.9911\n",
      "Epoch 10/10\n",
      "6000/6000 [==============================] - 54s 9ms/step - loss: 0.0092 - accuracy: 0.9972 - val_loss: 0.0498 - val_accuracy: 0.9918\n",
      "750/750 [==============================] - 6s 8ms/step - loss: 0.0438 - accuracy: 0.9923\n"
     ]
    }
   ],
   "source": [
    "#Compile the model\n",
    "model.compile(optimizer='adam', loss='sparse_categorical_crossentropy', metrics=['accuracy'])\n",
    "\n",
    "# Train the model\n",
    "model.fit(train_images, train_labels, epochs=10, batch_size=32, validation_data=(val_images, val_labels))\n",
    "\n",
    "# Evaluate the model on the test set\n",
    "test_loss, test_acc = model.evaluate(test_images, test_labels)"
   ]
  },
  {
   "cell_type": "code",
   "execution_count": null,
   "id": "22394638",
   "metadata": {
    "scrolled": true
   },
   "outputs": [],
   "source": []
  }
 ],
 "metadata": {
  "kernelspec": {
   "display_name": "Python 3 (ipykernel)",
   "language": "python",
   "name": "python3"
  },
  "language_info": {
   "codemirror_mode": {
    "name": "ipython",
    "version": 3
   },
   "file_extension": ".py",
   "mimetype": "text/x-python",
   "name": "python",
   "nbconvert_exporter": "python",
   "pygments_lexer": "ipython3",
   "version": "3.11.3"
  }
 },
 "nbformat": 4,
 "nbformat_minor": 5
}
